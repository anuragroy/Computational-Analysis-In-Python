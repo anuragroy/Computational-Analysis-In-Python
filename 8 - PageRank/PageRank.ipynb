{
 "cells": [
  {
   "cell_type": "code",
   "execution_count": null,
   "metadata": {
    "collapsed": false,
    "deletable": false,
    "editable": true,
    "nbgrader": {
     "checksum": "b11295002cc2b9549d6a2b01721b6701",
     "grade": true,
     "grade_id": "who__test",
     "locked": true,
     "points": 1,
     "solution": false
    }
   },
   "outputs": [],
   "source": []
  },
  {
   "cell_type": "markdown",
   "metadata": {
    "deletable": true,
    "editable": true
   },
   "source": [
    "# PageRank [39 points]\n",
    "\n",
    "In this notebook, you'll implement the [PageRank algorithm](http://ilpubs.stanford.edu:8090/422/) summarized in class. You'll test it on a real dataset (circa 2005) that consists of [political blogs](http://networkdata.ics.uci.edu/data/polblogs/) and their links among one another.\n",
    "\n",
    "For today's notebook, you'll need to download the following additional materials:\n",
    "* A SQLite version of the political blogs dataset: http://cse6040.gatech.edu/datasets/poliblogs.db (~ 611 KiB)"
   ]
  },
  {
   "cell_type": "code",
   "execution_count": 5,
   "metadata": {
    "collapsed": true,
    "deletable": true,
    "editable": true
   },
   "outputs": [],
   "source": [
    "# Some modules you'll need\n",
    "from IPython.display import display\n",
    "import numpy as np\n",
    "import scipy.sparse as sp\n",
    "import scipy.io as spio\n",
    "import cse6040utils"
   ]
  },
  {
   "cell_type": "markdown",
   "metadata": {
    "deletable": true,
    "editable": true
   },
   "source": [
    "## Part 1: Explore the Dataset\n",
    "\n",
    "Let's start by looking at the dataset, to get a feel for what it contains.\n",
    "\n",
    "In this part, try to rely primarily on SQL queries to accomplish each task. This scenario is appropriate if the database is so large that you cannot expect to load it all into memory."
   ]
  },
  {
   "cell_type": "markdown",
   "metadata": {
    "deletable": true,
    "editable": true
   },
   "source": [
    "Incidentally, one of you asked recently how to get the schema for a SQLite database when using Python. Here is some code adapted from a few ideas floating around on the web. Let's use these to inspect the tables available in the political blogs dataset."
   ]
  },
  {
   "cell_type": "code",
   "execution_count": 7,
   "metadata": {
    "collapsed": false,
    "deletable": true,
    "editable": true
   },
   "outputs": [],
   "source": [
    "import sqlite3 as db\n",
    "import pandas as pd\n",
    "\n",
    "def get_table_names (conn):\n",
    "    assert type (conn) == db.Connection # Only works for sqlite3 DBs\n",
    "    query = \"select name from sqlite_master where type='table'\"\n",
    "    return pd.read_sql_query (query, conn)\n",
    "\n",
    "def print_schemas (conn, table_names=None, limit=0):\n",
    "    assert type (conn) == db.Connection # Only works for sqlite3 DBs\n",
    "    if table_names is None:\n",
    "        table_names = get_table_names (conn)\n",
    "    c = conn.cursor ()\n",
    "    query = \"pragma table_info ({table})\"\n",
    "    for name in table_names:\n",
    "        c.execute (query.format (table=name))\n",
    "        columns = c.fetchall ()\n",
    "        print (\"=== {table} ===\".format (table=name))\n",
    "        col_string = \"[{id}] {name} : {type}\"\n",
    "        for col in columns:\n",
    "            print (col_string.format (id=col[0],\n",
    "                                      name=col[1],\n",
    "                                      type=col[2]))\n",
    "        print (\"\\n\")"
   ]
  },
  {
   "cell_type": "code",
   "execution_count": 8,
   "metadata": {
    "collapsed": false,
    "deletable": true,
    "editable": true
   },
   "outputs": [
    {
     "name": "stdout",
     "output_type": "stream",
     "text": [
      "=== Vertices ===\n",
      "[0] index : INTEGER\n",
      "[1] Id : INTEGER\n",
      "[2] Url : TEXT\n",
      "[3] Leaning : TEXT\n",
      "\n",
      "\n"
     ]
    },
    {
     "data": {
      "text/html": [
       "<div>\n",
       "<table border=\"1\" class=\"dataframe\">\n",
       "  <thead>\n",
       "    <tr style=\"text-align: right;\">\n",
       "      <th></th>\n",
       "      <th>index</th>\n",
       "      <th>Id</th>\n",
       "      <th>Url</th>\n",
       "      <th>Leaning</th>\n",
       "    </tr>\n",
       "  </thead>\n",
       "  <tbody>\n",
       "    <tr>\n",
       "      <th>0</th>\n",
       "      <td>0</td>\n",
       "      <td>1</td>\n",
       "      <td>100monkeystyping.com</td>\n",
       "      <td>Left</td>\n",
       "    </tr>\n",
       "    <tr>\n",
       "      <th>1</th>\n",
       "      <td>1</td>\n",
       "      <td>2</td>\n",
       "      <td>12thharmonic.com/wordpress</td>\n",
       "      <td>Left</td>\n",
       "    </tr>\n",
       "    <tr>\n",
       "      <th>2</th>\n",
       "      <td>2</td>\n",
       "      <td>3</td>\n",
       "      <td>40ozblog.blogspot.com</td>\n",
       "      <td>Left</td>\n",
       "    </tr>\n",
       "    <tr>\n",
       "      <th>3</th>\n",
       "      <td>3</td>\n",
       "      <td>4</td>\n",
       "      <td>4lina.tblog.com</td>\n",
       "      <td>Left</td>\n",
       "    </tr>\n",
       "    <tr>\n",
       "      <th>4</th>\n",
       "      <td>4</td>\n",
       "      <td>5</td>\n",
       "      <td>750volts.blogspot.com</td>\n",
       "      <td>Left</td>\n",
       "    </tr>\n",
       "  </tbody>\n",
       "</table>\n",
       "</div>"
      ],
      "text/plain": [
       "   index  Id                         Url Leaning\n",
       "0      0   1        100monkeystyping.com    Left\n",
       "1      1   2  12thharmonic.com/wordpress    Left\n",
       "2      2   3       40ozblog.blogspot.com    Left\n",
       "3      3   4             4lina.tblog.com    Left\n",
       "4      4   5       750volts.blogspot.com    Left"
      ]
     },
     "metadata": {},
     "output_type": "display_data"
    },
    {
     "name": "stdout",
     "output_type": "stream",
     "text": [
      "\n",
      "\n",
      "=== Edges ===\n",
      "[0] index : INTEGER\n",
      "[1] Source : INTEGER\n",
      "[2] Target : INTEGER\n",
      "\n",
      "\n"
     ]
    },
    {
     "data": {
      "text/html": [
       "<div>\n",
       "<table border=\"1\" class=\"dataframe\">\n",
       "  <thead>\n",
       "    <tr style=\"text-align: right;\">\n",
       "      <th></th>\n",
       "      <th>index</th>\n",
       "      <th>Source</th>\n",
       "      <th>Target</th>\n",
       "    </tr>\n",
       "  </thead>\n",
       "  <tbody>\n",
       "    <tr>\n",
       "      <th>0</th>\n",
       "      <td>0</td>\n",
       "      <td>267</td>\n",
       "      <td>1394</td>\n",
       "    </tr>\n",
       "    <tr>\n",
       "      <th>1</th>\n",
       "      <td>1</td>\n",
       "      <td>267</td>\n",
       "      <td>483</td>\n",
       "    </tr>\n",
       "    <tr>\n",
       "      <th>2</th>\n",
       "      <td>2</td>\n",
       "      <td>267</td>\n",
       "      <td>1051</td>\n",
       "    </tr>\n",
       "    <tr>\n",
       "      <th>3</th>\n",
       "      <td>3</td>\n",
       "      <td>904</td>\n",
       "      <td>1479</td>\n",
       "    </tr>\n",
       "    <tr>\n",
       "      <th>4</th>\n",
       "      <td>4</td>\n",
       "      <td>904</td>\n",
       "      <td>919</td>\n",
       "    </tr>\n",
       "  </tbody>\n",
       "</table>\n",
       "</div>"
      ],
      "text/plain": [
       "   index  Source  Target\n",
       "0      0     267    1394\n",
       "1      1     267     483\n",
       "2      2     267    1051\n",
       "3      3     904    1479\n",
       "4      4     904     919"
      ]
     },
     "metadata": {},
     "output_type": "display_data"
    },
    {
     "name": "stdout",
     "output_type": "stream",
     "text": [
      "\n",
      "\n"
     ]
    }
   ],
   "source": [
    "conn = db.connect ('poliblogs.db')\n",
    "\n",
    "for name in get_table_names (conn)['name']:\n",
    "    print_schemas (conn, [name])\n",
    "    query = '''select * from %s limit 5''' % name #string substitution\n",
    "    display (pd.read_sql_query (query, conn))\n",
    "    print (\"\\n\")"
   ]
  },
  {
   "cell_type": "markdown",
   "metadata": {
    "deletable": true,
    "editable": true
   },
   "source": [
    "**Exercise 1.** (3 points). Write a snippet of code to verify that the vertex IDs are _dense_ in some interval $[1, n]$. That is, there is a minimum value of $1$, some maximum value $n$, and _no_ missing values between $1$ and $n$.\n",
    "\n",
    "Also store the number of vertices $n$ in a variable named `num_vertices`."
   ]
  },
  {
   "cell_type": "code",
   "execution_count": 9,
   "metadata": {
    "collapsed": false,
    "deletable": false,
    "editable": true,
    "nbgrader": {
     "checksum": "4a40490daef1adb7d273099a99e63ffb",
     "grade": false,
     "grade_id": "check_verts",
     "locked": false,
     "points": 3,
     "solution": true
    }
   },
   "outputs": [],
   "source": [
    "query = '''\n",
    "    select min(Id) , max(Id), count(distinct Id)\n",
    "    from Vertices\n",
    "'''\n",
    "\n",
    "df = pd.read_sql_query(query, conn)\n",
    "\n",
    "num_vertices = df['count(distinct Id)'][0]\n",
    "\n"
   ]
  },
  {
   "cell_type": "code",
   "execution_count": 10,
   "metadata": {
    "collapsed": false,
    "deletable": false,
    "editable": true,
    "nbgrader": {
     "checksum": "14ea202240d0c065cd344d0b49abe90b",
     "grade": true,
     "grade_id": "check_verts__test",
     "locked": true,
     "points": 3,
     "solution": false
    }
   },
   "outputs": [],
   "source": [
    "assert num_vertices == 1490"
   ]
  },
  {
   "cell_type": "markdown",
   "metadata": {
    "deletable": true,
    "editable": true,
    "nbgrader": {
     "grade": false,
     "locked": false,
     "points": 3,
     "solution": false
    }
   },
   "source": [
    "**Exercise 2** (3 points). Make sure every edge has its end points in the vertex table."
   ]
  },
  {
   "cell_type": "code",
   "execution_count": 11,
   "metadata": {
    "collapsed": false,
    "deletable": false,
    "editable": true,
    "nbgrader": {
     "checksum": "5cf69aaa11e8e0f38d9ef91922a990bc",
     "grade": true,
     "grade_id": "check_edges",
     "locked": false,
     "points": 3,
     "solution": true
    }
   },
   "outputs": [
    {
     "data": {
      "text/html": [
       "<div>\n",
       "<table border=\"1\" class=\"dataframe\">\n",
       "  <thead>\n",
       "    <tr style=\"text-align: right;\">\n",
       "      <th></th>\n",
       "      <th>Source</th>\n",
       "    </tr>\n",
       "  </thead>\n",
       "  <tbody>\n",
       "  </tbody>\n",
       "</table>\n",
       "</div>"
      ],
      "text/plain": [
       "Empty DataFrame\n",
       "Columns: [Source]\n",
       "Index: []"
      ]
     },
     "execution_count": 11,
     "metadata": {},
     "output_type": "execute_result"
    }
   ],
   "source": [
    "query = '''  \n",
    "    \n",
    "    select Source\n",
    "    from Edges\n",
    "    union \n",
    "    select Target\n",
    "    from Edges\n",
    "    except\n",
    "    select Id\n",
    "    from Vertices\n",
    "'''\n",
    "\n",
    "pd.read_sql_query(query, conn)"
   ]
  },
  {
   "cell_type": "code",
   "execution_count": 12,
   "metadata": {
    "collapsed": false,
    "deletable": true,
    "editable": true
   },
   "outputs": [
    {
     "data": {
      "text/html": [
       "<div>\n",
       "<table border=\"1\" class=\"dataframe\">\n",
       "  <thead>\n",
       "    <tr style=\"text-align: right;\">\n",
       "      <th></th>\n",
       "      <th>min (Source)</th>\n",
       "      <th>max (Source)</th>\n",
       "      <th>min (Target)</th>\n",
       "      <th>max (Target)</th>\n",
       "    </tr>\n",
       "  </thead>\n",
       "  <tbody>\n",
       "    <tr>\n",
       "      <th>0</th>\n",
       "      <td>1</td>\n",
       "      <td>1490</td>\n",
       "      <td>1</td>\n",
       "      <td>1489</td>\n",
       "    </tr>\n",
       "  </tbody>\n",
       "</table>\n",
       "</div>"
      ],
      "text/plain": [
       "   min (Source)  max (Source)  min (Target)  max (Target)\n",
       "0             1          1490             1          1489"
      ]
     },
     "execution_count": 12,
     "metadata": {},
     "output_type": "execute_result"
    }
   ],
   "source": [
    "query = '''\n",
    "  select min (Source), max (Source), min (Target), max (Target) from Edges\n",
    "'''\n",
    "pd.read_sql_query (query, conn)"
   ]
  },
  {
   "cell_type": "markdown",
   "metadata": {
    "deletable": true,
    "editable": true
   },
   "source": [
    "**Exercise 3** (2 points). Determine which vertices have no outgoing edges. Store the result in a Pandas `DataFrame` named `df_deadends` with a single column named `Id`."
   ]
  },
  {
   "cell_type": "code",
   "execution_count": 15,
   "metadata": {
    "collapsed": false,
    "deletable": false,
    "editable": true,
    "nbgrader": {
     "checksum": "bdca7cd278f395bf08c7c3ec29d9a561",
     "grade": false,
     "grade_id": "num_deadends",
     "locked": false,
     "solution": true
    }
   },
   "outputs": [
    {
     "data": {
      "text/html": [
       "<div>\n",
       "<table border=\"1\" class=\"dataframe\">\n",
       "  <thead>\n",
       "    <tr style=\"text-align: right;\">\n",
       "      <th></th>\n",
       "      <th>Id</th>\n",
       "    </tr>\n",
       "  </thead>\n",
       "  <tbody>\n",
       "    <tr>\n",
       "      <th>0</th>\n",
       "      <td>3</td>\n",
       "    </tr>\n",
       "    <tr>\n",
       "      <th>1</th>\n",
       "      <td>4</td>\n",
       "    </tr>\n",
       "    <tr>\n",
       "      <th>2</th>\n",
       "      <td>7</td>\n",
       "    </tr>\n",
       "    <tr>\n",
       "      <th>3</th>\n",
       "      <td>25</td>\n",
       "    </tr>\n",
       "    <tr>\n",
       "      <th>4</th>\n",
       "      <td>30</td>\n",
       "    </tr>\n",
       "  </tbody>\n",
       "</table>\n",
       "</div>"
      ],
      "text/plain": [
       "   Id\n",
       "0   3\n",
       "1   4\n",
       "2   7\n",
       "3  25\n",
       "4  30"
      ]
     },
     "metadata": {},
     "output_type": "display_data"
    },
    {
     "data": {
      "text/html": [
       "<div>\n",
       "<table border=\"1\" class=\"dataframe\">\n",
       "  <thead>\n",
       "    <tr style=\"text-align: right;\">\n",
       "      <th></th>\n",
       "      <th>Id</th>\n",
       "    </tr>\n",
       "  </thead>\n",
       "  <tbody>\n",
       "    <tr>\n",
       "      <th>420</th>\n",
       "      <td>1467</td>\n",
       "    </tr>\n",
       "    <tr>\n",
       "      <th>421</th>\n",
       "      <td>1470</td>\n",
       "    </tr>\n",
       "    <tr>\n",
       "      <th>422</th>\n",
       "      <td>1474</td>\n",
       "    </tr>\n",
       "    <tr>\n",
       "      <th>423</th>\n",
       "      <td>1480</td>\n",
       "    </tr>\n",
       "    <tr>\n",
       "      <th>424</th>\n",
       "      <td>1483</td>\n",
       "    </tr>\n",
       "  </tbody>\n",
       "</table>\n",
       "</div>"
      ],
      "text/plain": [
       "       Id\n",
       "420  1467\n",
       "421  1470\n",
       "422  1474\n",
       "423  1480\n",
       "424  1483"
      ]
     },
     "metadata": {},
     "output_type": "display_data"
    }
   ],
   "source": [
    "query = '''\n",
    "select Id \n",
    "from Vertices a\n",
    "left join\n",
    "Edges b\n",
    "on a.id = b.Source \n",
    "where b.Source is null\n",
    "'''\n",
    "\n",
    "df_deadends = pd.read_sql_query(query, conn)\n",
    "\n",
    "display (df_deadends.head ())\n",
    "display (df_deadends.tail ())"
   ]
  },
  {
   "cell_type": "code",
   "execution_count": 16,
   "metadata": {
    "collapsed": false,
    "deletable": false,
    "editable": true,
    "nbgrader": {
     "checksum": "a6172ec6188a579e8b368edb4befddef",
     "grade": true,
     "grade_id": "num_solo_vertices__test",
     "locked": true,
     "points": 2,
     "solution": false
    }
   },
   "outputs": [
    {
     "name": "stdout",
     "output_type": "stream",
     "text": [
      "\n",
      "==> 425 vertices have no outgoing edges.\n",
      "\n",
      "(Passed.)\n"
     ]
    }
   ],
   "source": [
    "print (\"\\n==> %d vertices have no outgoing edges.\" % len (df_deadends))\n",
    "\n",
    "df_deadends_soln = pd.read_csv ('df_deadends_soln.csv')\n",
    "assert cse6040utils.tibbles_are_equivalent (df_deadends, df_deadends_soln)\n",
    "\n",
    "print (\"\\n(Passed.)\")"
   ]
  },
  {
   "cell_type": "markdown",
   "metadata": {
    "deletable": true,
    "editable": true
   },
   "source": [
    "**Exercise 4** (2 points). Determine which vertices that have no incoming edges. Store the result in a Pandas `DataFrame` called `df_nolove` having just a single column named `Id` to hold the corresponding vertex IDs."
   ]
  },
  {
   "cell_type": "code",
   "execution_count": 17,
   "metadata": {
    "collapsed": false,
    "deletable": false,
    "editable": true,
    "nbgrader": {
     "checksum": "8f198d53a0a304708680eeca31f6f1a8",
     "grade": false,
     "grade_id": "df_nolove",
     "locked": false,
     "solution": true
    }
   },
   "outputs": [
    {
     "data": {
      "text/html": [
       "<div>\n",
       "<table border=\"1\" class=\"dataframe\">\n",
       "  <thead>\n",
       "    <tr style=\"text-align: right;\">\n",
       "      <th></th>\n",
       "      <th>Id</th>\n",
       "    </tr>\n",
       "  </thead>\n",
       "  <tbody>\n",
       "    <tr>\n",
       "      <th>0</th>\n",
       "      <td>3</td>\n",
       "    </tr>\n",
       "    <tr>\n",
       "      <th>1</th>\n",
       "      <td>4</td>\n",
       "    </tr>\n",
       "    <tr>\n",
       "      <th>2</th>\n",
       "      <td>6</td>\n",
       "    </tr>\n",
       "    <tr>\n",
       "      <th>3</th>\n",
       "      <td>9</td>\n",
       "    </tr>\n",
       "    <tr>\n",
       "      <th>4</th>\n",
       "      <td>11</td>\n",
       "    </tr>\n",
       "  </tbody>\n",
       "</table>\n",
       "</div>"
      ],
      "text/plain": [
       "   Id\n",
       "0   3\n",
       "1   4\n",
       "2   6\n",
       "3   9\n",
       "4  11"
      ]
     },
     "metadata": {},
     "output_type": "display_data"
    },
    {
     "data": {
      "text/html": [
       "<div>\n",
       "<table border=\"1\" class=\"dataframe\">\n",
       "  <thead>\n",
       "    <tr style=\"text-align: right;\">\n",
       "      <th></th>\n",
       "      <th>Id</th>\n",
       "    </tr>\n",
       "  </thead>\n",
       "  <tbody>\n",
       "    <tr>\n",
       "      <th>495</th>\n",
       "      <td>1481</td>\n",
       "    </tr>\n",
       "    <tr>\n",
       "      <th>496</th>\n",
       "      <td>1483</td>\n",
       "    </tr>\n",
       "    <tr>\n",
       "      <th>497</th>\n",
       "      <td>1484</td>\n",
       "    </tr>\n",
       "    <tr>\n",
       "      <th>498</th>\n",
       "      <td>1488</td>\n",
       "    </tr>\n",
       "    <tr>\n",
       "      <th>499</th>\n",
       "      <td>1490</td>\n",
       "    </tr>\n",
       "  </tbody>\n",
       "</table>\n",
       "</div>"
      ],
      "text/plain": [
       "       Id\n",
       "495  1481\n",
       "496  1483\n",
       "497  1484\n",
       "498  1488\n",
       "499  1490"
      ]
     },
     "metadata": {},
     "output_type": "display_data"
    }
   ],
   "source": [
    "# YOUR CODE HERE\n",
    "query = '''\n",
    "select Id from\n",
    "Vertices a\n",
    "left join \n",
    "Edges b\n",
    "on a.Id = b.Target\n",
    "where b.Target is null\n",
    "\n",
    "'''\n",
    "\n",
    "df_nolove = pd.read_sql_query(query, conn)\n",
    "\n",
    "\n",
    "\n",
    "display (df_nolove.head ())\n",
    "display (df_nolove.tail ())"
   ]
  },
  {
   "cell_type": "code",
   "execution_count": 18,
   "metadata": {
    "collapsed": false,
    "deletable": false,
    "editable": true,
    "nbgrader": {
     "checksum": "4fea97aba0d22580937899d345fd799e",
     "grade": true,
     "grade_id": "df_nolove__test",
     "locked": true,
     "points": 2,
     "solution": false
    }
   },
   "outputs": [
    {
     "name": "stdout",
     "output_type": "stream",
     "text": [
      "\n",
      "==> 500 vertices have no incoming edges.\n",
      "\n",
      "(Passed.)\n"
     ]
    }
   ],
   "source": [
    "print (\"\\n==> %d vertices have no incoming edges.\" % len (df_nolove))\n",
    "\n",
    "df_nolove_soln = pd.read_csv ('df_nolove_soln.csv')\n",
    "assert cse6040utils.tibbles_are_equivalent (df_nolove, df_nolove_soln)\n",
    "\n",
    "print (\"\\n(Passed.)\")"
   ]
  },
  {
   "cell_type": "markdown",
   "metadata": {
    "deletable": true,
    "editable": true
   },
   "source": [
    "**Exercise 5** (3 points). Compute an [SQL view](https://www.sqlite.org/lang_createview.html) called `Outdegrees`, which contains the following columns:\n",
    "\n",
    "1. `Id`: vertex ID\n",
    "2. `Degree`: the out-degree of the corresponding vertex.\n",
    "\n",
    "To help you check your view, the test code selects from your view but adds a `Url` and `Leaning` fields, ordering the results in descending order of degree. It also prints first few and last few rows of this query, so you can inspect the URLs as a sanity check. (Perhaps it also provides a small bit of entertainment!)"
   ]
  },
  {
   "cell_type": "code",
   "execution_count": 19,
   "metadata": {
    "collapsed": false,
    "deletable": false,
    "editable": true,
    "nbgrader": {
     "checksum": "921ad37cab643b6db3be608205ba4b18",
     "grade": false,
     "grade_id": "outdegrees",
     "locked": false,
     "solution": true
    }
   },
   "outputs": [
    {
     "data": {
      "text/plain": [
       "<sqlite3.Cursor at 0x1629674aea0>"
      ]
     },
     "execution_count": 19,
     "metadata": {},
     "output_type": "execute_result"
    }
   ],
   "source": [
    "# Remove an existing view, if it exists:\n",
    "c = conn.cursor ()\n",
    "c.execute ('drop view if exists Outdegrees')\n",
    "\n",
    "query = '''\n",
    "    create view Outdegrees as\n",
    "    select Source as Id, count(*) as Degree\n",
    "    from Edges\n",
    "    group by Source\n",
    "'''\n",
    "c.execute(query)\n"
   ]
  },
  {
   "cell_type": "code",
   "execution_count": 20,
   "metadata": {
    "collapsed": false,
    "deletable": false,
    "editable": true,
    "nbgrader": {
     "checksum": "87d3a0c04a1bcae717faf85ac98c78b3",
     "grade": true,
     "grade_id": "outdegrees__test",
     "locked": true,
     "points": 3,
     "solution": false
    }
   },
   "outputs": [
    {
     "name": "stdout",
     "output_type": "stream",
     "text": [
      "==> A few entries with large out-degrees:\n"
     ]
    },
    {
     "data": {
      "text/html": [
       "<div>\n",
       "<table border=\"1\" class=\"dataframe\">\n",
       "  <thead>\n",
       "    <tr style=\"text-align: right;\">\n",
       "      <th></th>\n",
       "      <th>Id</th>\n",
       "      <th>Degree</th>\n",
       "      <th>Url</th>\n",
       "      <th>Leaning</th>\n",
       "    </tr>\n",
       "  </thead>\n",
       "  <tbody>\n",
       "    <tr>\n",
       "      <th>0</th>\n",
       "      <td>855</td>\n",
       "      <td>256</td>\n",
       "      <td>blogsforbush.com</td>\n",
       "      <td>Right</td>\n",
       "    </tr>\n",
       "    <tr>\n",
       "      <th>1</th>\n",
       "      <td>454</td>\n",
       "      <td>140</td>\n",
       "      <td>newleftblogs.blogspot.com</td>\n",
       "      <td>Left</td>\n",
       "    </tr>\n",
       "    <tr>\n",
       "      <th>2</th>\n",
       "      <td>387</td>\n",
       "      <td>131</td>\n",
       "      <td>madkane.com/notable.html</td>\n",
       "      <td>Left</td>\n",
       "    </tr>\n",
       "    <tr>\n",
       "      <th>3</th>\n",
       "      <td>512</td>\n",
       "      <td>131</td>\n",
       "      <td>politicalstrategy.org</td>\n",
       "      <td>Left</td>\n",
       "    </tr>\n",
       "    <tr>\n",
       "      <th>4</th>\n",
       "      <td>880</td>\n",
       "      <td>123</td>\n",
       "      <td>cayankee.blogs.com</td>\n",
       "      <td>Right</td>\n",
       "    </tr>\n",
       "    <tr>\n",
       "      <th>5</th>\n",
       "      <td>363</td>\n",
       "      <td>115</td>\n",
       "      <td>liberaloasis.com</td>\n",
       "      <td>Left</td>\n",
       "    </tr>\n",
       "    <tr>\n",
       "      <th>6</th>\n",
       "      <td>1101</td>\n",
       "      <td>113</td>\n",
       "      <td>lashawnbarber.com</td>\n",
       "      <td>Right</td>\n",
       "    </tr>\n",
       "    <tr>\n",
       "      <th>7</th>\n",
       "      <td>1000</td>\n",
       "      <td>110</td>\n",
       "      <td>gevkaffeegal.typepad.com/the_alliance</td>\n",
       "      <td>Right</td>\n",
       "    </tr>\n",
       "    <tr>\n",
       "      <th>8</th>\n",
       "      <td>524</td>\n",
       "      <td>109</td>\n",
       "      <td>presidentboxer.blogspot.com</td>\n",
       "      <td>Left</td>\n",
       "    </tr>\n",
       "    <tr>\n",
       "      <th>9</th>\n",
       "      <td>144</td>\n",
       "      <td>106</td>\n",
       "      <td>corrente.blogspot.com</td>\n",
       "      <td>Left</td>\n",
       "    </tr>\n",
       "  </tbody>\n",
       "</table>\n",
       "</div>"
      ],
      "text/plain": [
       "     Id  Degree                                    Url Leaning\n",
       "0   855     256                       blogsforbush.com   Right\n",
       "1   454     140              newleftblogs.blogspot.com    Left\n",
       "2   387     131               madkane.com/notable.html    Left\n",
       "3   512     131                  politicalstrategy.org    Left\n",
       "4   880     123                     cayankee.blogs.com   Right\n",
       "5   363     115                       liberaloasis.com    Left\n",
       "6  1101     113                      lashawnbarber.com   Right\n",
       "7  1000     110  gevkaffeegal.typepad.com/the_alliance   Right\n",
       "8   524     109            presidentboxer.blogspot.com    Left\n",
       "9   144     106                  corrente.blogspot.com    Left"
      ]
     },
     "metadata": {},
     "output_type": "display_data"
    },
    {
     "name": "stdout",
     "output_type": "stream",
     "text": [
      "\n",
      "==> A few entries with small out-degrees:\n"
     ]
    },
    {
     "data": {
      "text/html": [
       "<div>\n",
       "<table border=\"1\" class=\"dataframe\">\n",
       "  <thead>\n",
       "    <tr style=\"text-align: right;\">\n",
       "      <th></th>\n",
       "      <th>Id</th>\n",
       "      <th>Degree</th>\n",
       "      <th>Url</th>\n",
       "      <th>Leaning</th>\n",
       "    </tr>\n",
       "  </thead>\n",
       "  <tbody>\n",
       "    <tr>\n",
       "      <th>1060</th>\n",
       "      <td>1468</td>\n",
       "      <td>1</td>\n",
       "      <td>watchandwait.blogspot.com</td>\n",
       "      <td>Right</td>\n",
       "    </tr>\n",
       "    <tr>\n",
       "      <th>1061</th>\n",
       "      <td>1481</td>\n",
       "      <td>1</td>\n",
       "      <td>writehouse.us</td>\n",
       "      <td>Right</td>\n",
       "    </tr>\n",
       "    <tr>\n",
       "      <th>1062</th>\n",
       "      <td>1486</td>\n",
       "      <td>1</td>\n",
       "      <td>youngconservative.blogspot.com</td>\n",
       "      <td>Right</td>\n",
       "    </tr>\n",
       "    <tr>\n",
       "      <th>1063</th>\n",
       "      <td>1488</td>\n",
       "      <td>1</td>\n",
       "      <td>zeke01.blogspot.com</td>\n",
       "      <td>Right</td>\n",
       "    </tr>\n",
       "    <tr>\n",
       "      <th>1064</th>\n",
       "      <td>1490</td>\n",
       "      <td>1</td>\n",
       "      <td>zeph1z.tripod.com/blog</td>\n",
       "      <td>Right</td>\n",
       "    </tr>\n",
       "  </tbody>\n",
       "</table>\n",
       "</div>"
      ],
      "text/plain": [
       "        Id  Degree                             Url Leaning\n",
       "1060  1468       1       watchandwait.blogspot.com   Right\n",
       "1061  1481       1                   writehouse.us   Right\n",
       "1062  1486       1  youngconservative.blogspot.com   Right\n",
       "1063  1488       1             zeke01.blogspot.com   Right\n",
       "1064  1490       1          zeph1z.tripod.com/blog   Right"
      ]
     },
     "metadata": {},
     "output_type": "display_data"
    },
    {
     "name": "stdout",
     "output_type": "stream",
     "text": [
      "\n",
      "(Passed.)\n"
     ]
    }
   ],
   "source": [
    "query = '''\n",
    "  select Outdegrees.Id, Degree, Url, Leaning\n",
    "    from Outdegrees, Vertices\n",
    "    where Outdegrees.Id=Vertices.Id\n",
    "    order by -Degree\n",
    "'''\n",
    "df_outdegrees = pd.read_sql_query (query, conn)\n",
    "print (\"==> A few entries with large out-degrees:\")\n",
    "display (df_outdegrees.head (10))\n",
    "print (\"\\n==> A few entries with small out-degrees:\")\n",
    "display (df_outdegrees.tail ())\n",
    "\n",
    "df_outdegrees_soln = pd.read_csv ('outdegrees_soln.csv')\n",
    "assert cse6040utils.tibbles_are_equivalent (df_outdegrees, df_outdegrees_soln)\n",
    "\n",
    "print (\"\\n(Passed.)\")"
   ]
  },
  {
   "cell_type": "markdown",
   "metadata": {
    "deletable": true,
    "editable": true
   },
   "source": [
    "**Exercise 6** (3 points). Compute an [SQL view](https://www.sqlite.org/lang_createview.html) called `Indegrees`, which contains the following columns:\n",
    "\n",
    "1. `Id`: vertex ID\n",
    "2. `Degree`: the in-degree of this vertex.\n",
    "\n",
    "Your view should only include vertices with positive out-degree. (That is, if the in-degree is zero, you may leave it out of the resulting view.)"
   ]
  },
  {
   "cell_type": "code",
   "execution_count": 23,
   "metadata": {
    "collapsed": false,
    "deletable": false,
    "editable": true,
    "nbgrader": {
     "checksum": "4f7339933425c49a3b4d3b7692dd9287",
     "grade": false,
     "grade_id": "indegrees",
     "locked": false,
     "solution": true
    }
   },
   "outputs": [
    {
     "data": {
      "text/plain": [
       "<sqlite3.Cursor at 0x162967791f0>"
      ]
     },
     "execution_count": 23,
     "metadata": {},
     "output_type": "execute_result"
    }
   ],
   "source": [
    "# Remove an existing view, if it exists:\n",
    "c = conn.cursor ()\n",
    "c.execute ('drop view if exists Indegrees')\n",
    "\n",
    "\n",
    "# YOUR CODE HERE\n",
    "\n",
    "query  = '''\n",
    "create view Indegrees as \n",
    "\n",
    "    select Target as Id, count(*) as Degree\n",
    "    from Edges\n",
    "    group by Target\n",
    "'''\n",
    "\n",
    "c.execute(query)"
   ]
  },
  {
   "cell_type": "code",
   "execution_count": 24,
   "metadata": {
    "collapsed": false,
    "deletable": false,
    "editable": true,
    "nbgrader": {
     "checksum": "29e80b2073859bee07b4561b3eb5acb1",
     "grade": true,
     "grade_id": "indegrees__test",
     "locked": true,
     "points": 3,
     "solution": false
    }
   },
   "outputs": [
    {
     "name": "stdout",
     "output_type": "stream",
     "text": [
      "==> A few entries with large in-degrees:\n"
     ]
    },
    {
     "data": {
      "text/html": [
       "<div>\n",
       "<table border=\"1\" class=\"dataframe\">\n",
       "  <thead>\n",
       "    <tr style=\"text-align: right;\">\n",
       "      <th></th>\n",
       "      <th>Id</th>\n",
       "      <th>Degree</th>\n",
       "      <th>Url</th>\n",
       "      <th>Leaning</th>\n",
       "    </tr>\n",
       "  </thead>\n",
       "  <tbody>\n",
       "    <tr>\n",
       "      <th>0</th>\n",
       "      <td>155</td>\n",
       "      <td>338</td>\n",
       "      <td>dailykos.com</td>\n",
       "      <td>Left</td>\n",
       "    </tr>\n",
       "    <tr>\n",
       "      <th>1</th>\n",
       "      <td>1051</td>\n",
       "      <td>277</td>\n",
       "      <td>instapundit.com</td>\n",
       "      <td>Right</td>\n",
       "    </tr>\n",
       "    <tr>\n",
       "      <th>2</th>\n",
       "      <td>641</td>\n",
       "      <td>269</td>\n",
       "      <td>talkingpointsmemo.com</td>\n",
       "      <td>Left</td>\n",
       "    </tr>\n",
       "    <tr>\n",
       "      <th>3</th>\n",
       "      <td>55</td>\n",
       "      <td>264</td>\n",
       "      <td>atrios.blogspot.com</td>\n",
       "      <td>Left</td>\n",
       "    </tr>\n",
       "    <tr>\n",
       "      <th>4</th>\n",
       "      <td>963</td>\n",
       "      <td>240</td>\n",
       "      <td>drudgereport.com</td>\n",
       "      <td>Right</td>\n",
       "    </tr>\n",
       "    <tr>\n",
       "      <th>5</th>\n",
       "      <td>1245</td>\n",
       "      <td>221</td>\n",
       "      <td>powerlineblog.com</td>\n",
       "      <td>Right</td>\n",
       "    </tr>\n",
       "    <tr>\n",
       "      <th>6</th>\n",
       "      <td>855</td>\n",
       "      <td>212</td>\n",
       "      <td>blogsforbush.com</td>\n",
       "      <td>Right</td>\n",
       "    </tr>\n",
       "    <tr>\n",
       "      <th>7</th>\n",
       "      <td>729</td>\n",
       "      <td>201</td>\n",
       "      <td>washingtonmonthly.com</td>\n",
       "      <td>Left</td>\n",
       "    </tr>\n",
       "    <tr>\n",
       "      <th>8</th>\n",
       "      <td>1153</td>\n",
       "      <td>201</td>\n",
       "      <td>michellemalkin.com</td>\n",
       "      <td>Right</td>\n",
       "    </tr>\n",
       "    <tr>\n",
       "      <th>9</th>\n",
       "      <td>1437</td>\n",
       "      <td>187</td>\n",
       "      <td>truthlaidbear.com</td>\n",
       "      <td>Right</td>\n",
       "    </tr>\n",
       "  </tbody>\n",
       "</table>\n",
       "</div>"
      ],
      "text/plain": [
       "     Id  Degree                    Url Leaning\n",
       "0   155     338           dailykos.com    Left\n",
       "1  1051     277        instapundit.com   Right\n",
       "2   641     269  talkingpointsmemo.com    Left\n",
       "3    55     264    atrios.blogspot.com    Left\n",
       "4   963     240       drudgereport.com   Right\n",
       "5  1245     221      powerlineblog.com   Right\n",
       "6   855     212       blogsforbush.com   Right\n",
       "7   729     201  washingtonmonthly.com    Left\n",
       "8  1153     201     michellemalkin.com   Right\n",
       "9  1437     187      truthlaidbear.com   Right"
      ]
     },
     "metadata": {},
     "output_type": "display_data"
    },
    {
     "name": "stdout",
     "output_type": "stream",
     "text": [
      "\n",
      "==> A few entries with small in-degrees:\n"
     ]
    },
    {
     "data": {
      "text/html": [
       "<div>\n",
       "<table border=\"1\" class=\"dataframe\">\n",
       "  <thead>\n",
       "    <tr style=\"text-align: right;\">\n",
       "      <th></th>\n",
       "      <th>Id</th>\n",
       "      <th>Degree</th>\n",
       "      <th>Url</th>\n",
       "      <th>Leaning</th>\n",
       "    </tr>\n",
       "  </thead>\n",
       "  <tbody>\n",
       "    <tr>\n",
       "      <th>985</th>\n",
       "      <td>1451</td>\n",
       "      <td>1</td>\n",
       "      <td>usdlaw.blogspot.com</td>\n",
       "      <td>Right</td>\n",
       "    </tr>\n",
       "    <tr>\n",
       "      <th>986</th>\n",
       "      <td>1467</td>\n",
       "      <td>1</td>\n",
       "      <td>warriorscreed.000k3.com</td>\n",
       "      <td>Right</td>\n",
       "    </tr>\n",
       "    <tr>\n",
       "      <th>987</th>\n",
       "      <td>1473</td>\n",
       "      <td>1</td>\n",
       "      <td>wholewheatblogger.com</td>\n",
       "      <td>Right</td>\n",
       "    </tr>\n",
       "    <tr>\n",
       "      <th>988</th>\n",
       "      <td>1474</td>\n",
       "      <td>1</td>\n",
       "      <td>wildweasel.blog-city.com</td>\n",
       "      <td>Right</td>\n",
       "    </tr>\n",
       "    <tr>\n",
       "      <th>989</th>\n",
       "      <td>1485</td>\n",
       "      <td>1</td>\n",
       "      <td>xtremerightwing.net</td>\n",
       "      <td>Right</td>\n",
       "    </tr>\n",
       "  </tbody>\n",
       "</table>\n",
       "</div>"
      ],
      "text/plain": [
       "       Id  Degree                       Url Leaning\n",
       "985  1451       1       usdlaw.blogspot.com   Right\n",
       "986  1467       1   warriorscreed.000k3.com   Right\n",
       "987  1473       1     wholewheatblogger.com   Right\n",
       "988  1474       1  wildweasel.blog-city.com   Right\n",
       "989  1485       1       xtremerightwing.net   Right"
      ]
     },
     "metadata": {},
     "output_type": "display_data"
    },
    {
     "name": "stdout",
     "output_type": "stream",
     "text": [
      "\n",
      "(Passed.)\n"
     ]
    }
   ],
   "source": [
    "query = '''\n",
    "  select Indegrees.Id, Degree, Url, Leaning\n",
    "    from Indegrees, Vertices\n",
    "    where Indegrees.Id=Vertices.Id\n",
    "    order by -Degree\n",
    "'''\n",
    "df_outdegrees = pd.read_sql_query (query, conn)\n",
    "print (\"==> A few entries with large in-degrees:\")\n",
    "display (df_outdegrees.head (10))\n",
    "print (\"\\n==> A few entries with small in-degrees:\")\n",
    "display (df_outdegrees.tail ())\n",
    "\n",
    "df_outdegrees_soln = pd.read_csv ('indegrees_soln.csv')\n",
    "assert cse6040utils.tibbles_are_equivalent (df_outdegrees, df_outdegrees_soln)\n",
    "\n",
    "print (\"\\n(Passed.)\")"
   ]
  },
  {
   "cell_type": "markdown",
   "metadata": {
    "deletable": true,
    "editable": true
   },
   "source": [
    "**Exercise 7** (5 points). Query the database to extract a report of which URLs point to which URLs, storing the result in a Pandas data frame called `df_G`. This data frame should have these columns:\n",
    "\n",
    "- `SourceURL`: URL of a source vertex\n",
    "- `SourceLeaning`: \"Leaning\" value of that vertex\n",
    "- `TargetURL`: URL of the corresponding target vertex\n",
    "- `TargetLeaning`: \"Leaning\" value of that vertex"
   ]
  },
  {
   "cell_type": "code",
   "execution_count": 26,
   "metadata": {
    "collapsed": false,
    "deletable": false,
    "editable": true,
    "nbgrader": {
     "checksum": "3416822d39503a519f6be5248bd1e1c3",
     "grade": false,
     "grade_id": "df_G",
     "locked": false,
     "solution": true
    }
   },
   "outputs": [],
   "source": [
    "query = '''\n",
    "select b.Url as SourceURL\n",
    "    , b.Leaning as SourceLeaning\n",
    "    , c.Url as TargetURL\n",
    "    , c.Leaning as TargetLeaning\n",
    "    \n",
    "from Edges a\n",
    "inner join\n",
    "Vertices b\n",
    "on a.Source = b.Id\n",
    "inner join\n",
    "Vertices c\n",
    "on a.Target = c.id\n",
    "\n",
    "'''\n",
    "\n",
    "\n",
    "df_G = pd.read_sql_query(query, conn)"
   ]
  },
  {
   "cell_type": "code",
   "execution_count": 27,
   "metadata": {
    "collapsed": false,
    "deletable": false,
    "editable": true,
    "nbgrader": {
     "checksum": "5b0a45fe8f9bca2342841efb33e7c8f2",
     "grade": true,
     "grade_id": "df_G__test",
     "locked": true,
     "points": 5,
     "solution": false
    }
   },
   "outputs": [
    {
     "data": {
      "text/html": [
       "<div>\n",
       "<table border=\"1\" class=\"dataframe\">\n",
       "  <thead>\n",
       "    <tr style=\"text-align: right;\">\n",
       "      <th></th>\n",
       "      <th>SourceURL</th>\n",
       "      <th>SourceLeaning</th>\n",
       "      <th>TargetURL</th>\n",
       "      <th>TargetLeaning</th>\n",
       "    </tr>\n",
       "  </thead>\n",
       "  <tbody>\n",
       "    <tr>\n",
       "      <th>0</th>\n",
       "      <td>home.earthlink.net/~kevin.omeara</td>\n",
       "      <td>Left</td>\n",
       "      <td>thecommonvirtue.com</td>\n",
       "      <td>Right</td>\n",
       "    </tr>\n",
       "    <tr>\n",
       "      <th>1</th>\n",
       "      <td>home.earthlink.net/~kevin.omeara</td>\n",
       "      <td>Left</td>\n",
       "      <td>oliverwillis.com</td>\n",
       "      <td>Left</td>\n",
       "    </tr>\n",
       "    <tr>\n",
       "      <th>2</th>\n",
       "      <td>home.earthlink.net/~kevin.omeara</td>\n",
       "      <td>Left</td>\n",
       "      <td>instapundit.com</td>\n",
       "      <td>Right</td>\n",
       "    </tr>\n",
       "    <tr>\n",
       "      <th>3</th>\n",
       "      <td>conservativecat.com</td>\n",
       "      <td>Right</td>\n",
       "      <td>wizbangblog.com</td>\n",
       "      <td>Right</td>\n",
       "    </tr>\n",
       "    <tr>\n",
       "      <th>4</th>\n",
       "      <td>conservativecat.com</td>\n",
       "      <td>Right</td>\n",
       "      <td>coxandforkum.com</td>\n",
       "      <td>Right</td>\n",
       "    </tr>\n",
       "  </tbody>\n",
       "</table>\n",
       "</div>"
      ],
      "text/plain": [
       "                          SourceURL SourceLeaning            TargetURL  \\\n",
       "0  home.earthlink.net/~kevin.omeara          Left  thecommonvirtue.com   \n",
       "1  home.earthlink.net/~kevin.omeara          Left     oliverwillis.com   \n",
       "2  home.earthlink.net/~kevin.omeara          Left      instapundit.com   \n",
       "3               conservativecat.com         Right      wizbangblog.com   \n",
       "4               conservativecat.com         Right     coxandforkum.com   \n",
       "\n",
       "  TargetLeaning  \n",
       "0         Right  \n",
       "1          Left  \n",
       "2         Right  \n",
       "3         Right  \n",
       "4         Right  "
      ]
     },
     "metadata": {},
     "output_type": "display_data"
    },
    {
     "name": "stdout",
     "output_type": "stream",
     "text": [
      "...\n"
     ]
    },
    {
     "data": {
      "text/html": [
       "<div>\n",
       "<table border=\"1\" class=\"dataframe\">\n",
       "  <thead>\n",
       "    <tr style=\"text-align: right;\">\n",
       "      <th></th>\n",
       "      <th>SourceURL</th>\n",
       "      <th>SourceLeaning</th>\n",
       "      <th>TargetURL</th>\n",
       "      <th>TargetLeaning</th>\n",
       "    </tr>\n",
       "  </thead>\n",
       "  <tbody>\n",
       "    <tr>\n",
       "      <th>19085</th>\n",
       "      <td>marknicodemo.blogspot.com</td>\n",
       "      <td>Right</td>\n",
       "      <td>thatliberalmedia.com</td>\n",
       "      <td>Right</td>\n",
       "    </tr>\n",
       "    <tr>\n",
       "      <th>19086</th>\n",
       "      <td>marknicodemo.blogspot.com</td>\n",
       "      <td>Right</td>\n",
       "      <td>timblair.net</td>\n",
       "      <td>Right</td>\n",
       "    </tr>\n",
       "    <tr>\n",
       "      <th>19087</th>\n",
       "      <td>marknicodemo.blogspot.com</td>\n",
       "      <td>Right</td>\n",
       "      <td>thevaticanofliberalism.com</td>\n",
       "      <td>Right</td>\n",
       "    </tr>\n",
       "    <tr>\n",
       "      <th>19088</th>\n",
       "      <td>marknicodemo.blogspot.com</td>\n",
       "      <td>Right</td>\n",
       "      <td>thepatriette.com</td>\n",
       "      <td>Right</td>\n",
       "    </tr>\n",
       "    <tr>\n",
       "      <th>19089</th>\n",
       "      <td>marknicodemo.blogspot.com</td>\n",
       "      <td>Right</td>\n",
       "      <td>michaeltotten.com</td>\n",
       "      <td>Right</td>\n",
       "    </tr>\n",
       "  </tbody>\n",
       "</table>\n",
       "</div>"
      ],
      "text/plain": [
       "                       SourceURL SourceLeaning                   TargetURL  \\\n",
       "19085  marknicodemo.blogspot.com         Right        thatliberalmedia.com   \n",
       "19086  marknicodemo.blogspot.com         Right                timblair.net   \n",
       "19087  marknicodemo.blogspot.com         Right  thevaticanofliberalism.com   \n",
       "19088  marknicodemo.blogspot.com         Right            thepatriette.com   \n",
       "19089  marknicodemo.blogspot.com         Right           michaeltotten.com   \n",
       "\n",
       "      TargetLeaning  \n",
       "19085         Right  \n",
       "19086         Right  \n",
       "19087         Right  \n",
       "19088         Right  \n",
       "19089         Right  "
      ]
     },
     "metadata": {},
     "output_type": "display_data"
    }
   ],
   "source": [
    "from IPython.display import display\n",
    "display (df_G.head ())\n",
    "print (\"...\")\n",
    "display (df_G.tail ())\n",
    "\n",
    "df_G_soln = pd.read_csv ('df_G_soln.csv')\n",
    "assert cse6040utils.tibbles_are_equivalent (df_G, df_G_soln)"
   ]
  },
  {
   "cell_type": "markdown",
   "metadata": {
    "deletable": true,
    "editable": true
   },
   "source": [
    "## Part 2: Implement PageRank\n",
    "\n",
    "The following exercises will walk you through a possible implementation of PageRank for this dataset."
   ]
  },
  {
   "cell_type": "markdown",
   "metadata": {
    "deletable": true,
    "editable": true
   },
   "source": [
    "**Exercise 8** (5 points). Build a sparse matrix, `PT`, as a Scipy CSR matrix that stores $P^T \\equiv G^TD^{-1}$, where $G^T$ is the transpose of the connectivity matrix $G$, and $D^{-1}$ is the diagonal matrix of inverse out-degrees. Be sure also to do the following:\n",
    "\n",
    "1. Recall that the database indices are 1-based; when converting to the Scipy representation, you should convert these to be 0-based.\n",
    "2. To ensure that there is no \"information loss,\" place a 1.0 at any diagonal entry where there are no outgoing edges.\n",
    "3. Ensure that `PT` is square with dimension `num_vertices`."
   ]
  },
  {
   "cell_type": "code",
   "execution_count": 120,
   "metadata": {
    "collapsed": false,
    "deletable": false,
    "editable": true,
    "nbgrader": {
     "checksum": "954d40349aa7ea6971258d54bd97be5e",
     "grade": false,
     "grade_id": "PT",
     "locked": false,
     "solution": true
    }
   },
   "outputs": [],
   "source": [
    "#Edges: Source, Target\n",
    "#Outdegrees: Id, Degree\n",
    "query = '''\n",
    "    select a.* from \n",
    "    (select Source as Col, Target as Row, 1.0/Degree as Value\n",
    "    from Edges, Outdegrees\n",
    "    where Source = Id\n",
    "    order by Col desc) a   \n",
    "    \n",
    "    union all\n",
    "    \n",
    "    select b.id, b.id, 1.0\n",
    "    from\n",
    "    (select distinct id\n",
    "    from Vertices\n",
    "    except \n",
    "    select Source from Edges \n",
    "     )b\n",
    "    \n",
    "'''\n",
    "\n",
    "df = pd.read_sql_query(query, conn)\n",
    "df.head(10)\n",
    "\n",
    "import scipy.sparse as sp\n",
    "columns = [i - 1 for i in df.iloc[:, 0]]\n",
    "rows =    [i - 1 for i in df.iloc[:, 1]]\n",
    "\n",
    "df_coo_sp = sp.coo_matrix((df['Value'], (rows, columns))\n",
    "                          , shape = (len(df[\"Col\"].unique()) , len(df[\"Col\"].unique()) )\n",
    "                         )\n",
    "\n",
    "PT = df_coo_sp.tocsr ()\n",
    "\n",
    "\n"
   ]
  },
  {
   "cell_type": "code",
   "execution_count": 117,
   "metadata": {
    "collapsed": false,
    "deletable": false,
    "editable": true,
    "nbgrader": {
     "checksum": "de8f356105e5aa978d6519887a0abdb8",
     "grade": true,
     "grade_id": "PT__test",
     "locked": true,
     "points": 5,
     "solution": false
    }
   },
   "outputs": [
    {
     "name": "stdout",
     "output_type": "stream",
     "text": [
      "\n",
      "(Passed.)\n"
     ]
    }
   ],
   "source": [
    "assert PT.shape == (num_vertices, num_vertices)\n",
    "assert len (PT.indices) == 19450\n",
    "\n",
    "# Check that columns sum to 1.0\n",
    "u = np.ones (num_vertices)\n",
    "y_u = np.transpose (PT).dot (u)\n",
    "assert (np.max (np.abs (y_u - u))) <= 3e-15\n",
    "\n",
    "# Check whether `PT` matches what we expect\n",
    "#assert (spio.loadmat ('PT.mat')['PT'] != PT).getnnz () == 0\n",
    "\n",
    "print (\"\\n(Passed.)\")"
   ]
  },
  {
   "cell_type": "markdown",
   "metadata": {
    "deletable": true,
    "editable": true
   },
   "source": [
    "**Exercise 9** (10 points). Complete the PageRank implementation for this dataset. To keep it simple, you may take $\\alpha=0.85$, $x(0)$ equal to the vector of all $1/n$ values, and 25 iterations.\n",
    "\n",
    "> **Note.** This implementation asks you to maintain a list, `X`, that stores every `x(t)` that you compute in sequence."
   ]
  },
  {
   "cell_type": "code",
   "execution_count": 118,
   "metadata": {
    "collapsed": false,
    "deletable": false,
    "editable": true,
    "nbgrader": {
     "checksum": "42c297cddce4343d151c143de2e2f18f",
     "grade": false,
     "grade_id": "pagerank",
     "locked": false,
     "solution": true
    }
   },
   "outputs": [],
   "source": [
    "# YOUR CODE GOES BELOW. We've provided some scaffolding code,\n",
    "# so you just need to complete it.\n",
    "\n",
    "ALPHA = 0.85 # Probability of following some link\n",
    "MAX_ITERS = 25\n",
    "n = num_vertices\n",
    "\n",
    "# Let X[t] store the dense vector x(t) at time t\n",
    "X = []\n",
    "\n",
    "x_0 = np.ones (n) / n # Initial distribution: 1/n at each page\n",
    "X.append (x_0)\n",
    "\n",
    "for t in range (1, MAX_ITERS):\n",
    "    # Complete this implementation\n",
    "    \n",
    "    X.append(ALPHA * PT.dot(X[t-1]) + ((1-ALPHA)/n ) * (np.ones(n)))"
   ]
  },
  {
   "cell_type": "code",
   "execution_count": 119,
   "metadata": {
    "collapsed": false,
    "deletable": false,
    "editable": true,
    "nbgrader": {
     "checksum": "93cab8393797bc2337496dbfd20212a6",
     "grade": true,
     "grade_id": "pagerank__test",
     "locked": true,
     "points": 10,
     "solution": false
    }
   },
   "outputs": [
    {
     "data": {
      "text/html": [
       "<div>\n",
       "<table border=\"1\" class=\"dataframe\">\n",
       "  <thead>\n",
       "    <tr style=\"text-align: right;\">\n",
       "      <th></th>\n",
       "      <th>Rank</th>\n",
       "      <th>Id</th>\n",
       "      <th>InDegree</th>\n",
       "      <th>OutDegree</th>\n",
       "      <th>Url</th>\n",
       "      <th>Leaning</th>\n",
       "    </tr>\n",
       "  </thead>\n",
       "  <tbody>\n",
       "    <tr>\n",
       "      <th>0</th>\n",
       "      <td>0.009634</td>\n",
       "      <td>155</td>\n",
       "      <td>338</td>\n",
       "      <td>46</td>\n",
       "      <td>dailykos.com</td>\n",
       "      <td>Left</td>\n",
       "    </tr>\n",
       "    <tr>\n",
       "      <th>1</th>\n",
       "      <td>0.008179</td>\n",
       "      <td>55</td>\n",
       "      <td>264</td>\n",
       "      <td>87</td>\n",
       "      <td>atrios.blogspot.com</td>\n",
       "      <td>Left</td>\n",
       "    </tr>\n",
       "    <tr>\n",
       "      <th>2</th>\n",
       "      <td>0.006780</td>\n",
       "      <td>1051</td>\n",
       "      <td>277</td>\n",
       "      <td>86</td>\n",
       "      <td>instapundit.com</td>\n",
       "      <td>Right</td>\n",
       "    </tr>\n",
       "    <tr>\n",
       "      <th>3</th>\n",
       "      <td>0.006705</td>\n",
       "      <td>855</td>\n",
       "      <td>212</td>\n",
       "      <td>256</td>\n",
       "      <td>blogsforbush.com</td>\n",
       "      <td>Right</td>\n",
       "    </tr>\n",
       "    <tr>\n",
       "      <th>4</th>\n",
       "      <td>0.006678</td>\n",
       "      <td>641</td>\n",
       "      <td>269</td>\n",
       "      <td>14</td>\n",
       "      <td>talkingpointsmemo.com</td>\n",
       "      <td>Left</td>\n",
       "    </tr>\n",
       "    <tr>\n",
       "      <th>5</th>\n",
       "      <td>0.005859</td>\n",
       "      <td>1153</td>\n",
       "      <td>201</td>\n",
       "      <td>28</td>\n",
       "      <td>michellemalkin.com</td>\n",
       "      <td>Right</td>\n",
       "    </tr>\n",
       "    <tr>\n",
       "      <th>6</th>\n",
       "      <td>0.005748</td>\n",
       "      <td>963</td>\n",
       "      <td>240</td>\n",
       "      <td>5</td>\n",
       "      <td>drudgereport.com</td>\n",
       "      <td>Right</td>\n",
       "    </tr>\n",
       "    <tr>\n",
       "      <th>7</th>\n",
       "      <td>0.005665</td>\n",
       "      <td>729</td>\n",
       "      <td>201</td>\n",
       "      <td>55</td>\n",
       "      <td>washingtonmonthly.com</td>\n",
       "      <td>Left</td>\n",
       "    </tr>\n",
       "    <tr>\n",
       "      <th>8</th>\n",
       "      <td>0.004798</td>\n",
       "      <td>1245</td>\n",
       "      <td>221</td>\n",
       "      <td>15</td>\n",
       "      <td>powerlineblog.com</td>\n",
       "      <td>Right</td>\n",
       "    </tr>\n",
       "    <tr>\n",
       "      <th>9</th>\n",
       "      <td>0.004572</td>\n",
       "      <td>323</td>\n",
       "      <td>165</td>\n",
       "      <td>9</td>\n",
       "      <td>juancole.com</td>\n",
       "      <td>Left</td>\n",
       "    </tr>\n",
       "  </tbody>\n",
       "</table>\n",
       "</div>"
      ],
      "text/plain": [
       "       Rank    Id  InDegree  OutDegree                    Url Leaning\n",
       "0  0.009634   155       338         46           dailykos.com    Left\n",
       "1  0.008179    55       264         87    atrios.blogspot.com    Left\n",
       "2  0.006780  1051       277         86        instapundit.com   Right\n",
       "3  0.006705   855       212        256       blogsforbush.com   Right\n",
       "4  0.006678   641       269         14  talkingpointsmemo.com    Left\n",
       "5  0.005859  1153       201         28     michellemalkin.com   Right\n",
       "6  0.005748   963       240          5       drudgereport.com   Right\n",
       "7  0.005665   729       201         55  washingtonmonthly.com    Left\n",
       "8  0.004798  1245       221         15      powerlineblog.com   Right\n",
       "9  0.004572   323       165          9           juancole.com    Left"
      ]
     },
     "metadata": {},
     "output_type": "display_data"
    },
    {
     "name": "stdout",
     "output_type": "stream",
     "text": [
      "\n",
      "(Passed.)\n"
     ]
    }
   ],
   "source": [
    "# Write some code here to create a table in the database\n",
    "# called PageRank\n",
    "\n",
    "command = '''DROP TABLE IF EXISTS PageRank'''\n",
    "c = conn.cursor ()\n",
    "c.execute (command)\n",
    "\n",
    "command = '''CREATE TABLE PageRank (Id INTEGER, Rank REAL)'''\n",
    "c.execute (command)\n",
    "\n",
    "command = '''INSERT INTO PageRank VALUES (?, ?)'''\n",
    "c.executemany (command, zip (range (1, n+1), X[-1]))\n",
    "\n",
    "# Complete this query:\n",
    "query = '''\n",
    "  SELECT Rank, V.Id, I.Degree AS InDegree, O.Degree AS OutDegree, V.Url, V.Leaning\n",
    "    FROM PageRank AS P, Vertices AS V, Indegrees AS I, Outdegrees AS O\n",
    "    WHERE (P.Id = V.Id) AND (P.Id = I.Id) AND (P.Id = O.Id)\n",
    "    ORDER BY -Rank\n",
    "    LIMIT 10\n",
    "'''\n",
    "df_ranks = pd.read_sql_query (query, conn)\n",
    "display (df_ranks)\n",
    "\n",
    "assert df_ranks['Url'][0] == 'dailykos.com'\n",
    "assert df_ranks['Url'][1] == 'atrios.blogspot.com'\n",
    "assert df_ranks['Url'][2] == 'instapundit.com'\n",
    "assert df_ranks['Url'][3] == 'blogsforbush.com'\n",
    "assert df_ranks['Url'][4] == 'talkingpointsmemo.com'\n",
    "\n",
    "print (\"\\n(Passed.)\")"
   ]
  },
  {
   "cell_type": "markdown",
   "metadata": {
    "deletable": true,
    "editable": true
   },
   "source": [
    "**Exercise 10** (3 points). The `Vertices` table includes a column called, `Leaning`, which expresses a political leaning -- either \"Left\" or \"Right\". How might you use this column to come up with an alternative ranking scheme?"
   ]
  },
  {
   "cell_type": "markdown",
   "metadata": {
    "collapsed": true,
    "deletable": false,
    "editable": true,
    "nbgrader": {
     "checksum": "c5adb8b69635628ca8759bba9d0ac23e",
     "grade": true,
     "grade_id": "leaning",
     "locked": false,
     "points": 3,
     "solution": true
    }
   },
   "source": [
    "ANSWER:\n",
    "\n",
    "We could use the Leaning column to modify the PageRanks further, i.e. either make the weight of the edges (transitions) between the same Leaning values higher, or assume that there will not be transitions between pages from different Leaning values."
   ]
  },
  {
   "cell_type": "code",
   "execution_count": null,
   "metadata": {
    "collapsed": true,
    "deletable": true,
    "editable": true
   },
   "outputs": [],
   "source": []
  }
 ],
 "metadata": {
  "anaconda-cloud": {},
  "kernelspec": {
   "display_name": "Python 3",
   "language": "python",
   "name": "python3"
  },
  "language_info": {
   "codemirror_mode": {
    "name": "ipython",
    "version": 3
   },
   "file_extension": ".py",
   "mimetype": "text/x-python",
   "name": "python",
   "nbconvert_exporter": "python",
   "pygments_lexer": "ipython3",
   "version": "3.5.2"
  }
 },
 "nbformat": 4,
 "nbformat_minor": 0
}
