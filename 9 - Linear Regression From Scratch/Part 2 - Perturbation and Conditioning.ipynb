{
 "cells": [
  {
   "cell_type": "code",
   "execution_count": 2,
   "metadata": {
    "collapsed": false,
    "deletable": false,
    "editable": true,
    "nbgrader": {
     "checksum": "b11295002cc2b9549d6a2b01721b6701",
     "grade": true,
     "grade_id": "who__test",
     "locked": true,
     "points": 1,
     "solution": false
    }
   },
   "outputs": [],
   "source": []
  },
  {
   "cell_type": "markdown",
   "metadata": {
    "deletable": true,
    "editable": true
   },
   "source": [
    "## Perturbation theory and condition numbers [10 points]\n",
    "\n",
    "Let's start by asking how \"hard\" it is to solve a given linear system, $Ax=b$. You will apply perturbation theory to answer this question."
   ]
  },
  {
   "cell_type": "markdown",
   "metadata": {
    "deletable": true,
    "editable": true
   },
   "source": [
    "**Intuition: Continuous functions of a single variable.** To build your intuition, consider the simple case of a scalar function in a single continuous variable, $y = f(x)$. Suppose the input is perturbed by some amount, $\\Delta x$. The output will also change by some amount, $\\Delta y$. How large is $\\Delta y$ relative to $\\Delta x$?\n",
    "\n",
    "Supposing $\\Delta x$ is sufficiently small, you can approximate the change in the output by a Taylor series expansion of $f(x + \\Delta x)$:\n",
    "\n",
    "$$\n",
    "  y + \\Delta y = f(x + \\Delta x) = f(x) + \\Delta x \\frac{df}{dx} + O(\\Delta x^2).\n",
    "$$\n",
    "\n",
    "Since $\\Delta x$ is assumed to be \"small,\" we can approximate this relation by\n",
    "\n",
    "$$\n",
    "\\begin{eqnarray}\n",
    "    y + \\Delta y & \\approx & f(x) + \\Delta x \\frac{df}{dx} \\\\\n",
    "        \\Delta y & \\approx & \\Delta x \\frac{df}{dx}.\n",
    "\\end{eqnarray}\n",
    "$$\n",
    "\n",
    "This result should not be surprising: the first derivative measures the sensitivity of changes in the output to changes in the input. We will give the derivative a special name: it is the _(absolute) condition number_. If it is very large in the vicinity of $x$, then even small changes to the input will result in large changes in the output. Put differently, a large condition number indicates that the problem is intrinsically sensitive, so we should expect it may be difficult to construct an accurate algorithm.\n",
    "\n",
    "In addition to the absolute condition number, we can define a _relative_ condition number for the problem of evaluating $f(x)$.\n",
    "\n",
    "$$\n",
    "\\begin{eqnarray}\n",
    "                \\Delta y &  \\approx   & \\Delta x \\frac{df}{dx} \\\\\n",
    "                         & \\Downarrow & \\\\\n",
    "  \\frac{|\\Delta y|}{|y|} &  \\approx   & \\frac{|\\Delta x|}{|x|} \\cdot \\underbrace{\\frac{|df/dx| \\cdot |x|}{|f(x)|}}_{\\kappa_f(x)}.\n",
    "\\end{eqnarray}\n",
    "$$\n",
    "\n",
    "Here, the underscored factor, defined to be $\\kappa_f(x)$, is the relative analogue of the absolute condition number. Again, its magnitude tells us whether the output is sensitive to the input."
   ]
  },
  {
   "cell_type": "markdown",
   "metadata": {
    "deletable": true,
    "editable": true
   },
   "source": [
    "**Perturbation theory for linear systems.** What if we perturb a linear system? How can we measure its sensitivity or \"intrinsic difficulty\" to solve?\n",
    "\n",
    "First, recall the following identities linear algebraic identities:\n",
    "\n",
    "* _Triangle inequality_: $\\|x + y\\|_2 \\leq \\|x\\|_2 + \\|y\\|_2$\n",
    "* _Norm of a matrix-vector product_: $\\|Ax\\|_2 \\leq \\|A\\|_F\\cdot\\|x\\|_2$\n",
    "* _Norm of matrix-matrix product_: $\\|AB\\|_F \\leq \\|A\\|_F\\cdot\\|B\\|_F$\n",
    "\n",
    "To simplify the notation a little, we will drop the \"$2$\" and \"$F$\" subscripts."
   ]
  },
  {
   "cell_type": "markdown",
   "metadata": {
    "deletable": true,
    "editable": true
   },
   "source": [
    "Suppose all of $A$, $b$, and the eventual solution $x$ undergo additive perturbations, denoted by $A + \\Delta A$, $b + \\Delta b$, and $x + \\Delta x$, respectively. Then, subtracting the original system from the perturbed system, you would obtain the following.\n",
    "\n",
    "$$\n",
    "\\begin{array}{rrcll}\n",
    "   &         (A + \\Delta A)(x + \\Delta x) & = & b + \\Delta b & \\\\\n",
    "- [&                                   Ax & = & b & ] \\\\\n",
    "\\hline\n",
    "   & \\Delta A x + (A + \\Delta A) \\Delta x & = & \\Delta b & \\\\\n",
    "\\end{array}\n",
    "$$"
   ]
  },
  {
   "cell_type": "markdown",
   "metadata": {
    "deletable": true,
    "editable": true
   },
   "source": [
    "Now look more closely at the perturbation, $\\Delta x$, of the solution. Let $\\hat{x} \\equiv x + \\Delta x$ be the perturbed solution. Then the above can be rewritten as,\n",
    "\n",
    "$$\\Delta x = A^{-1} \\left(\\Delta b - \\Delta A \\hat{x}\\right),$$\n",
    "\n",
    "where we have assumed that $A$ is invertible. (That won't be true for our overdetermined system, but let's not worry about that for the moment.)"
   ]
  },
  {
   "cell_type": "markdown",
   "metadata": {
    "deletable": true,
    "editable": true
   },
   "source": [
    "How large is $\\Delta x$? Let's use a norm to measure it and bound it using \n",
    "\n",
    "$$\n",
    "\\begin{array}{rcl}\n",
    "  \\|\\Delta x\\| &   =   & \\|A^{-1} \\left(\\Delta b - \\Delta A \\hat{x}\\right)\\| \\\\\n",
    "               &  \\leq & \\|A^{-1}\\|\\cdot\\left(\\|\\Delta b\\| + \\|\\Delta A\\|\\cdot\\|\\hat{x}\\|\\right).\n",
    "\\end{array}\n",
    "$$"
   ]
  },
  {
   "cell_type": "markdown",
   "metadata": {
    "deletable": true,
    "editable": true
   },
   "source": [
    "You can rewrite this as follows:\n",
    "\n",
    "$$\n",
    "\\begin{array}{rcl}\n",
    "  \\frac{\\|\\Delta x\\|}\n",
    "       {\\|\\hat{x}\\|}\n",
    "    & \\leq &\n",
    "    \\|A^{-1}\\| \\cdot \\|A\\| \\cdot \\left(\n",
    "                                   \\frac{\\|\\Delta A\\|}\n",
    "                                        {\\|A\\|}\n",
    "                                   +\n",
    "                                   \\frac{\\Delta b}\n",
    "                                        {\\|A\\| \\cdot \\|\\hat{x}\\|}\n",
    "                                 \\right).\n",
    "\\end{array}\n",
    "$$"
   ]
  },
  {
   "cell_type": "markdown",
   "metadata": {
    "deletable": true,
    "editable": true
   },
   "source": [
    "This bound says that the relative error of the perturbed solution, compared to relative perturbations in $A$ and $b$, scales with the product, $\\|A^{-1}\\| \\cdot \\|A\\|$. This factor is the linear systems analogue of the condition number for evaluating the function $f(x)$! As such, we define\n",
    "\n",
    "$$\\kappa(A) \\equiv \\|A^{-1}\\| \\cdot \\|A\\|$$\n",
    "\n",
    "as the _condition number of $A$_ for solving linear systems."
   ]
  },
  {
   "cell_type": "markdown",
   "metadata": {
    "deletable": true,
    "editable": true
   },
   "source": [
    "What values of $\\kappa(A)$ are \"large?\" Generally, you want to compare $\\kappa(A)$ to $1/\\epsilon$, where $\\epsilon$ is _machine precision_, which is the [maximum relative error under rounding](https://sites.ualberta.ca/~kbeach/phys420_580_2010/docs/ACM-Goldberg.pdf). We may look more closely at floating-point representations later on, but for now, a good notional value for $\\epsilon$ is about $10^{-7}$ in single-precision and $10^{-15}$ in double-precision. (In Python, the default format for floating-point values is double-precision.)"
   ]
  },
  {
   "cell_type": "markdown",
   "metadata": {
    "deletable": true,
    "editable": true
   },
   "source": [
    "This analysis explains why solving the normal equations directly could lead to computational problems. In particular, one can show that $\\kappa(X^T X) \\approx \\kappa(X)^2$, which means forming $X^T X$ explicitly may make the problem harder to solve by a large amount."
   ]
  },
  {
   "cell_type": "markdown",
   "metadata": {
    "deletable": true,
    "editable": true
   },
   "source": [
    "## Examples\n",
    "\n",
    "Let's look at some examples of conditioning."
   ]
  },
  {
   "cell_type": "markdown",
   "metadata": {
    "deletable": true,
    "editable": true
   },
   "source": [
    "First, recall the data matrix from Part 1."
   ]
  },
  {
   "cell_type": "code",
   "execution_count": 4,
   "metadata": {
    "collapsed": false,
    "deletable": true,
    "editable": true
   },
   "outputs": [
    {
     "name": "stdout",
     "output_type": "stream",
     "text": [
      "X (first five rows):\n",
      "\n",
      "[[  1.    85.4    1.75]\n",
      " [  1.    94.2    2.1 ]\n",
      " [  1.    95.3    1.98]\n",
      " [  1.    94.7    2.01]\n",
      " [  1.    89.4    1.89]]\n"
     ]
    }
   ],
   "source": [
    "import pandas as pd\n",
    "import numpy as np\n",
    "\n",
    "from IPython.display import display\n",
    "\n",
    "VARIABLES = ['BP', 'Age', 'Weight', 'BSA', 'Dur', 'Pulse', 'Stress']\n",
    "df = pd.read_table ('bloodpress.txt', usecols=VARIABLES)\n",
    "\n",
    "RESPONSE = 'BP'\n",
    "PREDICTORS = ['Weight', 'BSA']\n",
    "\n",
    "y = df.as_matrix ([RESPONSE])\n",
    "m = len (y)\n",
    "\n",
    "X_initial = df.as_matrix (PREDICTORS)\n",
    "X = np.insert (X_initial, [0], [[1.]] * m, axis=1)\n",
    "\n",
    "print (\"X (first five rows):\\n\")\n",
    "print (X[:5])"
   ]
  },
  {
   "cell_type": "markdown",
   "metadata": {
    "deletable": true,
    "editable": true
   },
   "source": [
    "**Exercise 1** (1 point). Use Numpy's condition number estimator, `np.linalg.cond()`, to estimate the condition numbers for a) $X$ and b) $X^T X$. Use the form of the condition number based on the two-norm. Store the results in `cond_X` and `cond_XTX`, respectively."
   ]
  },
  {
   "cell_type": "code",
   "execution_count": 7,
   "metadata": {
    "collapsed": true,
    "deletable": false,
    "editable": true,
    "nbgrader": {
     "checksum": "da3e9749393da8685ae3b3d8faeb734e",
     "grade": false,
     "grade_id": "cond",
     "locked": false,
     "solution": true
    }
   },
   "outputs": [],
   "source": [
    "cond_X = np.linalg.cond(X)\n",
    "cond_XTX = np.linalg.cond(X.T.dot(X))"
   ]
  },
  {
   "cell_type": "code",
   "execution_count": 8,
   "metadata": {
    "collapsed": false,
    "deletable": false,
    "editable": true,
    "nbgrader": {
     "checksum": "17e8beb282cca6fa749b134b18e8b7ab",
     "grade": true,
     "grade_id": "cond__test",
     "locked": true,
     "points": 1,
     "solution": false
    }
   },
   "outputs": [
    {
     "data": {
      "text/latex": [
       "$$\\kappa(X) \\approx 2344$$"
      ],
      "text/plain": [
       "<IPython.core.display.Math object>"
      ]
     },
     "metadata": {},
     "output_type": "display_data"
    },
    {
     "data": {
      "text/latex": [
       "$$\\kappa(X)^2 \\approx 5495099$$"
      ],
      "text/plain": [
       "<IPython.core.display.Math object>"
      ]
     },
     "metadata": {},
     "output_type": "display_data"
    },
    {
     "data": {
      "text/latex": [
       "$$\\kappa(X^T X) \\approx 5495099$$"
      ],
      "text/plain": [
       "<IPython.core.display.Math object>"
      ]
     },
     "metadata": {},
     "output_type": "display_data"
    },
    {
     "name": "stdout",
     "output_type": "stream",
     "text": [
      "\n",
      "(Passed.)\n"
     ]
    }
   ],
   "source": [
    "from IPython.display import display, Math, Latex\n",
    "\n",
    "display (Math (r'\\kappa(X) \\approx {:.0f}'.format (cond_X)))\n",
    "display (Math (r'\\kappa(X)^2 \\approx {:.0f}'.format (cond_X**2)))\n",
    "display (Math (r'\\kappa(X^T X) \\approx {:.0f}'.format (cond_XTX)))\n",
    "\n",
    "assert 1. <= cond_X <= 3e3\n",
    "assert 1. <= cond_XTX <= 6e6\n",
    "\n",
    "print (\"\\n(Passed.)\")"
   ]
  },
  {
   "cell_type": "markdown",
   "metadata": {
    "deletable": true,
    "editable": true
   },
   "source": [
    "**Example.** Let's look at a system that is ill-conditioned and see what happens when we make a tiny perturbation to it."
   ]
  },
  {
   "cell_type": "code",
   "execution_count": 11,
   "metadata": {
    "collapsed": false,
    "deletable": true,
    "editable": true
   },
   "outputs": [
    {
     "name": "stdout",
     "output_type": "stream",
     "text": [
      "A ==\n",
      " [[  1.00000000e+00   1.00000000e+03]\n",
      " [  1.46484375e-03   1.00000000e+00]]\n",
      "\n",
      "cond (A) ==  2151264.80673\n"
     ]
    }
   ],
   "source": [
    "A = np.array([(1., 1000.),\n",
    "              (2.**(-10) + 2.**(-11), 1.)])\n",
    "\n",
    "print (\"A ==\\n\", A)\n",
    "print (\"\\ncond (A) == \", np.linalg.cond (A))"
   ]
  },
  {
   "cell_type": "code",
   "execution_count": 12,
   "metadata": {
    "collapsed": false,
    "deletable": true,
    "editable": true
   },
   "outputs": [
    {
     "name": "stdout",
     "output_type": "stream",
     "text": [
      "B := A + dA ==\n",
      " [[  1.00000000e+00   1.00000000e+03]\n",
      " [  9.76562500e-04   1.00000000e+00]]\n",
      "\n",
      "cond (B) / cond (A) ==  19.8333333333\n"
     ]
    }
   ],
   "source": [
    "Delta_A = np.array ([(0., 0.),\n",
    "                     (-2.**(-11), 0.)\n",
    "                    ])\n",
    "B = A + Delta_A\n",
    "\n",
    "print (\"B := A + dA ==\\n\", B)\n",
    "print (\"\\ncond (B) / cond (A) == \",\n",
    "      np.linalg.cond (B) / np.linalg.cond (A))"
   ]
  },
  {
   "cell_type": "code",
   "execution_count": 13,
   "metadata": {
    "collapsed": false,
    "deletable": true,
    "editable": true
   },
   "outputs": [
    {
     "name": "stdout",
     "output_type": "stream",
     "text": [
      "x ~= A^(-1)*b ==  [  2.14910924e+03  -2.14810924e+00]\n",
      "x ~= B^(-1)*b ==  [-42624.        42.625]\n"
     ]
    }
   ],
   "source": [
    "b = np.array([1., 1.])\n",
    "\n",
    "x_A = np.linalg.solve (A, b)\n",
    "print (\"x ~= A^(-1)*b == \", x_A)\n",
    "\n",
    "x_B = np.linalg.solve (B, b)\n",
    "print (\"x ~= B^(-1)*b == \", x_B)"
   ]
  },
  {
   "cell_type": "markdown",
   "metadata": {
    "deletable": true,
    "editable": true
   },
   "source": [
    "**Example.** Here is another example, taken from [Trefethen and Bau (1997)](http://bookstore.siam.org/ot50/) with Python code by [Da Kuang (2014)](http://math.ucla.edu/~dakuang/)."
   ]
  },
  {
   "cell_type": "code",
   "execution_count": 21,
   "metadata": {
    "collapsed": false,
    "deletable": true,
    "editable": true
   },
   "outputs": [
    {
     "data": {
      "text/plain": [
       "[<matplotlib.lines.Line2D at 0x1f41e78fcf8>]"
      ]
     },
     "execution_count": 21,
     "metadata": {},
     "output_type": "execute_result"
    },
    {
     "data": {
      "image/png": "[encoded data removed]",
      "text/plain": [
       "<matplotlib.figure.Figure at 0x1f41d923518>"
      ]
     },
     "metadata": {},
     "output_type": "display_data"
    }
   ],
   "source": [
    "import matplotlib.pyplot as plt\n",
    "%matplotlib inline\n",
    "\n",
    "m = 101\n",
    "\n",
    "t = np.linspace (0., 1., m)\n",
    "y = np.exp (np.sin (4*t))\n",
    "y /= 2006.787453080206\n",
    "\n",
    "plt.plot (t, y, 'o--')"
   ]
  },
  {
   "cell_type": "markdown",
   "metadata": {
    "deletable": true,
    "editable": true
   },
   "source": [
    "**Exercise 2** (2 points). The following code creates a matrix, $X$, based on the data created above. Explain what approximately solving the system $X \\alpha \\approx y$ for the vector $\\alpha$ does, effectively, given $y$ as computed above (`y[0:m]`)."
   ]
  },
  {
   "cell_type": "code",
   "execution_count": 23,
   "metadata": {
    "collapsed": false,
    "deletable": true,
    "editable": true
   },
   "outputs": [
    {
     "name": "stdout",
     "output_type": "stream",
     "text": [
      "Condition number of X: 2.27251e+10\n"
     ]
    }
   ],
   "source": [
    "n = 15\n",
    "X = np.zeros ((m, n))\n",
    "\n",
    "for j in range (n):\n",
    "    X[:, j] = np.power (t, j)\n",
    "    \n",
    "print (\"Condition number of X: %g\" % np.linalg.cond (X))"
   ]
  },
  {
   "cell_type": "markdown",
   "metadata": {
    "deletable": false,
    "editable": true,
    "nbgrader": {
     "checksum": "dcf95f2331fe77569cd85d7fa143cc1c",
     "grade": true,
     "grade_id": "explain_A",
     "locked": false,
     "points": 2,
     "solution": true
    }
   },
   "source": [
    "It tries to solve the linear system defined in the previous cell, but the high condition number indicates the difficulty in solving it.\n"
   ]
  },
  {
   "cell_type": "markdown",
   "metadata": {
    "deletable": true,
    "editable": true
   },
   "source": [
    "**Exercise 3** (2 points). Compute the solution to this problem by solving the normal equations. Store your solution in a vector `alpha1`."
   ]
  },
  {
   "cell_type": "code",
   "execution_count": 25,
   "metadata": {
    "collapsed": false,
    "deletable": false,
    "editable": true,
    "nbgrader": {
     "checksum": "46dc01ff57eb0dc369de30727cc2cb11",
     "grade": false,
     "grade_id": "alpha1",
     "locked": false,
     "solution": true
    }
   },
   "outputs": [
    {
     "name": "stdout",
     "output_type": "stream",
     "text": [
      "Your solution, alpha1:\n",
      "[  4.98267147e-04   2.00426177e-03   3.47994025e-03   9.36976525e-03\n",
      "  -1.05343656e-01   4.52744566e-01  -1.55065824e+00   2.67490155e+00\n",
      "  -8.31257799e-01  -3.79840965e+00   5.27260177e+00  -1.55556681e+00\n",
      "  -1.74422810e+00   1.53006481e+00  -3.59966890e-01]\n"
     ]
    },
    {
     "data": {
      "text/plain": [
       "[<matplotlib.lines.Line2D at 0x1f41ec1da58>,\n",
       " <matplotlib.lines.Line2D at 0x1f41ec1dcf8>]"
      ]
     },
     "execution_count": 25,
     "metadata": {},
     "output_type": "execute_result"
    },
    {
     "data": {
      "image/png": "[encoded data removed]",
      "text/plain": [
       "<matplotlib.figure.Figure at 0x1f41e79b6a0>"
      ]
     },
     "metadata": {},
     "output_type": "display_data"
    }
   ],
   "source": [
    "y1 = X.T.dot(y[0:m])\n",
    "X1 = X.T.dot(X)\n",
    "\n",
    "alpha1 = np.linalg.solve (X1, y1)\n",
    "\n",
    "print (\"Your solution, alpha1:\")\n",
    "print (alpha1)\n",
    "\n",
    "plt.plot (t, y, '.', t, X.dot (alpha1), '-')"
   ]
  },
  {
   "cell_type": "code",
   "execution_count": 26,
   "metadata": {
    "collapsed": false,
    "deletable": false,
    "editable": true,
    "nbgrader": {
     "checksum": "6dda60a2d49202cd25dfe23ee50706c2",
     "grade": true,
     "grade_id": "alpha1__test",
     "locked": true,
     "points": 2,
     "solution": false
    }
   },
   "outputs": [
    {
     "name": "stdout",
     "output_type": "stream",
     "text": [
      "\n",
      "Residual two-norm squared:\n",
      "1.46904809512e-14\n",
      "\n",
      "(Passed.)\n"
     ]
    },
    {
     "data": {
      "image/png": "[encoded data removed]",
      "text/plain": [
       "<matplotlib.figure.Figure at 0x1f41ebf1e48>"
      ]
     },
     "metadata": {},
     "output_type": "display_data"
    }
   ],
   "source": [
    "r1 = X.dot (alpha1) - y\n",
    "r1_norm2 = np.linalg.norm (r1, 2)**2\n",
    "\n",
    "plt.semilogy (t, np.abs (y/r1), '*--')\n",
    "\n",
    "print (\"\\nResidual two-norm squared:\")\n",
    "print (r1_norm2)\n",
    "assert r1_norm2 <= 1e-13\n",
    "\n",
    "print (\"\\n(Passed.)\")"
   ]
  },
  {
   "cell_type": "markdown",
   "metadata": {
    "deletable": true,
    "editable": true
   },
   "source": [
    "Numpy's built-in linear least squares solver uses a different algorithm. Compare its solution to the one computed by solving the normal equations."
   ]
  },
  {
   "cell_type": "code",
   "execution_count": 27,
   "metadata": {
    "collapsed": false,
    "deletable": true,
    "editable": true
   },
   "outputs": [
    {
     "name": "stdout",
     "output_type": "stream",
     "text": [
      "Numpy's built-in linear least squares solver:\n",
      "[  4.98315243e-04   1.98997701e-03   4.21311915e-03  -6.24109423e-03\n",
      "   7.43887387e-02  -8.18667286e-01   4.38684058e+00  -1.64200319e+01\n",
      "   4.24529015e+01  -7.35499623e+01   8.47383199e+01  -6.41161751e+01\n",
      "   3.06343451e+01  -8.38229064e+00   1.00010491e+00]\n",
      "\n",
      "Two-norm squared: 1.19242078709e-15\n",
      "\n",
      "|alpha1 ./ alpha2| ==\n",
      "[ 0.99990348  1.00717836  0.82597717 -1.50130168 -1.4161237  -0.55302633\n",
      " -0.3534795  -0.16290477 -0.01958071  0.05164394  0.06222217  0.02426169\n",
      " -0.05693701 -0.1825354  -0.35992913]\n"
     ]
    },
    {
     "data": {
      "text/plain": [
       "[<matplotlib.lines.Line2D at 0x1f420070630>]"
      ]
     },
     "execution_count": 27,
     "metadata": {},
     "output_type": "execute_result"
    },
    {
     "data": {
      "image/png": "[encoded data removed]",
      "text/plain": [
       "<matplotlib.figure.Figure at 0x1f41ffc2be0>"
      ]
     },
     "metadata": {},
     "output_type": "display_data"
    }
   ],
   "source": [
    "alpha2 = np.linalg.lstsq (X, y)[0]\n",
    "\n",
    "print (\"Numpy's built-in linear least squares solver:\")\n",
    "print (alpha2)\n",
    "\n",
    "r2 = X.dot (alpha2) - y\n",
    "r2_norm2 = np.linalg.norm (r2, 2)**2\n",
    "\n",
    "print (\"\\nTwo-norm squared:\", r2_norm2)\n",
    "\n",
    "print (\"\\n|alpha1 ./ alpha2| ==\")\n",
    "print (alpha1 / alpha2)\n",
    "\n",
    "plt.plot (alpha1 / alpha2, '*--')"
   ]
  },
  {
   "cell_type": "markdown",
   "metadata": {
    "deletable": true,
    "editable": true
   },
   "source": [
    "**Example: Nearly collinear predictors.** Another more practical situation in which poor conditioning can arise in linear regression modeling is when you include two strongly correlated predictors."
   ]
  },
  {
   "cell_type": "markdown",
   "metadata": {
    "deletable": true,
    "editable": true
   },
   "source": [
    "**Exercise 4** (2 points). Create an $m \\times 2$ data matrix `X` with two columns of nearly collinear predictors. That is, if $x_0$ and $x_1$ are the columns, then create these columns such that they are not identical but have a correlation coefficient close to 1.0 and a condition number that is at least $10^{16}$.\n",
    "\n",
    "> You can compute the correlation coefficient between two vectors `a` and `b` by using Numpy's built-in method, `np.corrcoef(a, b)`."
   ]
  },
  {
   "cell_type": "code",
   "execution_count": 33,
   "metadata": {
    "collapsed": false,
    "deletable": false,
    "editable": true,
    "nbgrader": {
     "checksum": "ce3efef6b3638406fc5e9971056792e4",
     "grade": false,
     "grade_id": "X_collinear",
     "locked": false,
     "points": 1,
     "solution": true
    }
   },
   "outputs": [
    {
     "name": "stdout",
     "output_type": "stream",
     "text": [
      "cond (X): 4.32801553338e+16\n",
      "cond (X^T*X): 1.3998733348e+17\n"
     ]
    }
   ],
   "source": [
    "M = 10 # Number of rows\n",
    "\n",
    "X = np.ones(shape = (M,2))\n",
    "\n",
    "X[1][0]+=1\n",
    "\n",
    "X[:, 1] = X[:, 0]*10\n",
    "\n",
    "XTX = X.T.dot(X)\n",
    "print ('cond (X):', np.linalg.cond (X))\n",
    "print ('cond (X^T*X):', np.linalg.cond (XTX))"
   ]
  },
  {
   "cell_type": "code",
   "execution_count": 34,
   "metadata": {
    "collapsed": false,
    "deletable": false,
    "editable": true,
    "nbgrader": {
     "checksum": "ffeb5cb14833680bd9e491a2e4acecfa",
     "grade": true,
     "grade_id": "X_collinear_test",
     "locked": true,
     "points": 1,
     "solution": false
    }
   },
   "outputs": [
    {
     "name": "stdout",
     "output_type": "stream",
     "text": [
      "Correlation coefficient: 1.000000000000000\n",
      "\n",
      "(Passed.)\n"
     ]
    }
   ],
   "source": [
    "corr_coef = np.corrcoef (X[:, 0], X[:, 1])[0, 1]\n",
    "print (\"Correlation coefficient: {:.15f}\".format (corr_coef))\n",
    "assert corr_coef >= 0.99\n",
    "\n",
    "print (\"\\n(Passed.)\")"
   ]
  },
  {
   "cell_type": "markdown",
   "metadata": {
    "deletable": true,
    "editable": true,
    "nbgrader": {
     "grade": false,
     "locked": false,
     "solution": false
    }
   },
   "source": [
    "**Exercise 5** (1 point). Let $\\theta^T = (0.1, 0.1)$ be the true solution of this problem. Compute the corresponding right-hand side, $y = X \\theta$. Call your right-hand side vector `y`."
   ]
  },
  {
   "cell_type": "code",
   "execution_count": 36,
   "metadata": {
    "collapsed": false,
    "deletable": false,
    "editable": true,
    "nbgrader": {
     "checksum": "2b30b298a61eff06dd4ba7eb0826d4b3",
     "grade": true,
     "grade_id": "normeq",
     "locked": false,
     "points": 1,
     "solution": true
    }
   },
   "outputs": [],
   "source": [
    "theta_true = np.array ([[0.1], [0.1]])\n",
    "\n",
    "y = X.dot(theta_true)"
   ]
  },
  {
   "cell_type": "markdown",
   "metadata": {
    "deletable": true,
    "editable": true
   },
   "source": [
    "**Exercise 6** (2 points). Solve this system $X \\theta = y$ using the normal equations method, given `y` but \"pretending\" that you do not know `theta_true`. Store your result as `theta_1`. How does it compare to `theta_true`?"
   ]
  },
  {
   "cell_type": "code",
   "execution_count": 37,
   "metadata": {
    "collapsed": false,
    "deletable": false,
    "editable": true,
    "nbgrader": {
     "checksum": "d509ba33ea91ef042e3eebfd85831484",
     "grade": true,
     "grade_id": "theta_neq",
     "locked": false,
     "points": 2,
     "solution": true
    }
   },
   "outputs": [
    {
     "name": "stdout",
     "output_type": "stream",
     "text": [
      "[[-3.93846154]\n",
      " [ 0.50384615]]\n"
     ]
    }
   ],
   "source": [
    "X2 = X.T.dot(X)\n",
    "\n",
    "y2 = X.T.dot(y)\n",
    "\n",
    "theta_1 = np.linalg.solve(X2,y2)\n",
    "\n",
    "print (theta_1)"
   ]
  },
  {
   "cell_type": "markdown",
   "metadata": {
    "deletable": true,
    "editable": true
   },
   "source": [
    "**Exercise 7** (1 point). Use Numpy's built-in least squares solver instead (`np.linalg.lstsq()`), storing its estimate as a vector `theta_2`. Does it give a better answer?"
   ]
  },
  {
   "cell_type": "code",
   "execution_count": 38,
   "metadata": {
    "collapsed": false,
    "deletable": false,
    "editable": true,
    "nbgrader": {
     "checksum": "eb1d7d3d3f3fc90aaa1995cfccd984af",
     "grade": true,
     "grade_id": "theta_builtin",
     "locked": false,
     "points": 1,
     "solution": true
    }
   },
   "outputs": [
    {
     "name": "stdout",
     "output_type": "stream",
     "text": [
      "(array([[ 0.01089109],\n",
      "       [ 0.10891089]]), array([], dtype=float64), 1, array([  3.62353419e+01,   8.37227630e-16]))\n"
     ]
    }
   ],
   "source": [
    "theta_2 = np.linalg.lstsq(X,y)\n",
    "\n",
    "print (theta_2)"
   ]
  },
  {
   "cell_type": "code",
   "execution_count": null,
   "metadata": {
    "collapsed": true,
    "deletable": true,
    "editable": true
   },
   "outputs": [],
   "source": []
  }
 ],
 "metadata": {
  "anaconda-cloud": {},
  "kernelspec": {
   "display_name": "Python 3",
   "language": "python",
   "name": "python3"
  },
  "language_info": {
   "codemirror_mode": {
    "name": "ipython",
    "version": 3
   },
   "file_extension": ".py",
   "mimetype": "text/x-python",
   "name": "python",
   "nbconvert_exporter": "python",
   "pygments_lexer": "ipython3",
   "version": "3.5.2"
  }
 },
 "nbformat": 4,
 "nbformat_minor": 0
}
